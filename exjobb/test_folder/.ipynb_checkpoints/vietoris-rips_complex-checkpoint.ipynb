{
 "cells": [
  {
   "cell_type": "code",
   "execution_count": 7,
   "metadata": {},
   "outputs": [],
   "source": [
    "import networkx as nx\n",
    "from scipy.spatial import distance\n",
    "from itertools import product\n",
    " \n",
    "class VietorisRipsComplex(SimplicialComplex):\n",
    "    def __init__(self, points, epsilon, labels=None, distfcn=distance.euclidean):\n",
    "        self.pts = points\n",
    "        self.labels = range(len(self.pts)) if labels==None or len(labels)!=len(self.pts) else labels\n",
    "        self.epsilon = epsilon\n",
    "        self.distfcn = distfcn\n",
    "        self.network = self.construct_network(self.pts, self.labels, self.epsilon, self.distfcn)\n",
    "        self.import_simplices(map(tuple, list(nx.find_cliques(self.network))))\n",
    " \n",
    "    def construct_network(self, points, labels, epsilon, distfcn):\n",
    "        g = nx.Graph()\n",
    "        g.add_nodes_from(labels)\n",
    "        zips = zip(points, labels)\n",
    "        for pair in product(zips, zips):\n",
    "            if pair[0][1]!=pair[1][1]:\n",
    "                dist = distfcn(pair[0][0], pair[1][0])\n",
    "                #if dist&lt;epsilon:\n",
    "                if dist & dist<epsilon:\n",
    "                    g.add_edge(pair[0][1], pair[1][1])\n",
    "        return g"
   ]
  },
  {
   "cell_type": "code",
   "execution_count": 8,
   "metadata": {
    "collapsed": true
   },
   "outputs": [],
   "source": [
    "import numpy as np\n",
    "from itertools import combinations\n",
    "from scipy.sparse import dok_matrix\n",
    "from operator import add\n",
    "\n",
    "class SimplicialComplex:\n",
    "    def __init__(self, simplices=[]):\n",
    "        self.import_simplices(simplices=simplices)\n",
    " \n",
    "    def import_simplices(self, simplices=[]):\n",
    "        self.simplices = map(lambda simplex: tuple(sorted(simplex)), simplices)\n",
    "        self.face_set = self.faces()"
   ]
  },
  {
   "cell_type": "code",
   "execution_count": null,
   "metadata": {
    "collapsed": true
   },
   "outputs": [],
   "source": [
    "def faces(self):\n",
    "    faceset = set()\n",
    "    for simplex in self.simplices:\n",
    "        numnodes = len(simplex)\n",
    "        for r in range(numnodes, 0, -1):\n",
    "            for face in combinations(simplex, r):\n",
    "                faceset.add(face)\n",
    "    return faceset"
   ]
  },
  {
   "cell_type": "code",
   "execution_count": null,
   "metadata": {
    "collapsed": true
   },
   "outputs": [],
   "source": []
  }
 ],
 "metadata": {
  "kernelspec": {
   "display_name": "Python 2",
   "language": "python",
   "name": "python2"
  },
  "language_info": {
   "codemirror_mode": {
    "name": "ipython",
    "version": 2
   },
   "file_extension": ".py",
   "mimetype": "text/x-python",
   "name": "python",
   "nbconvert_exporter": "python",
   "pygments_lexer": "ipython2",
   "version": "2.7.14"
  }
 },
 "nbformat": 4,
 "nbformat_minor": 2
}
