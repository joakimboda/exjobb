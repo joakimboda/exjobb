{
 "cells": [
  {
   "cell_type": "code",
   "execution_count": 1,
   "metadata": {},
   "outputs": [
    {
     "name": "stdout",
     "output_type": "stream",
     "text": [
      "['N_CS' 'N_C' 'N_CNS' 'NO_CNS' 'C_CNS' 'N_CN' 'CNOS_CNS' 'NO_C' 'CNOS_CN'\n",
      " 'NO_CN' 'C_CN' 'NO_CS' 'N_COS' 'O_CNS' 'O_CN' 'CNO_CNS' 'N_CO' 'CNO_CN'\n",
      " 'N_CNO' 'N_CNOSPFClBrI' 'CNOS_CS' 'C_CS' 'O_CS' 'N_CNOS' 'O_C' 'CNO_CS'\n",
      " 'NO_COS' 'NO_CO' 'CNOS_C' 'CO_CNS' 'C_C' 'CNOS_CNOSPFClBrI' 'CO_CS'\n",
      " 'C_COS' 'CN_CN' 'C_CO' 'CNO_C' 'CN_CNS' 'CNOS_COS' 'CNO_CNOSPFClBrI'\n",
      " 'CO_CN' 'O_COS' 'CN_CS' 'CNOS_N' 'CNO_COS' 'CNOS_CNOS' 'CN_C' 'O_CNO'\n",
      " 'CNOS_CNO' 'CNO_CO' 'C_N' 'CNO_CNO' 'O_CO' 'CNO_CNOS' 'O_CNOS' 'CO_N'\n",
      " 'CN_N' 'CNOS_CO' 'CO_C' 'NO_CNO' 'C_CNOSPFClBrI' 'CO_COS' 'O_CNOSPFClBrI'\n",
      " 'O_OS' 'CO_CO' 'C_CNO' 'CN_O' 'NO_CNOS' 'NO_CNOSPFClBrI' 'CO_CNOSPFClBrI'\n",
      " 'C_CNOS' 'CNO_N' 'CN_COS' 'C_O' 'O_N' 'CN_CNOSPFClBrI' 'N_N' 'N_NOS'\n",
      " 'CN_OS' 'C_OS' 'CNOS_OS' 'CN_CNOS' 'NO_OS' 'CN_CNO' 'CN_CO' 'CNOS_O'\n",
      " 'O_O' 'NO_N' 'C_NOS' 'NO_O' 'N_NO' 'CO_CNOS' 'CO_CNO' 'CNO_O' 'CNO_OS'\n",
      " 'CNOS_NO' 'CNOS_S' 'CNOS_NOS' 'N_OS' 'CN_NOS' 'CN_NO' 'C_NO' 'CO_O'\n",
      " 'NO_NO' 'NO_NOS' 'NO_S' 'O_NS' 'CNO_NO' 'C_NS' 'CNO_NOS' 'NO_NS' 'CO_OS'\n",
      " 'N_NS' 'CO_NO' 'CN_S' 'N_O' 'O_NO' 'CNO_S' 'CO_NOS' 'CN_NS' 'CNOS_NS'\n",
      " 'O_NOS' 'O_S' 'CO_NS' 'CO_S' 'C_S' 'CNO_NS' 'N_S']\n"
     ]
    }
   ],
   "source": [
    "import os\n",
    "\n",
    "import numpy as np\n",
    "\n",
    "#Detta är för en annan grej!\n",
    "OrderedName = np.load('PerformanceOrderAlphaHand.npy')\n",
    "print OrderedName\n",
    "#End\n",
    "\n",
    "def get_pdb_structure(s, cut, protein_name, working_dir):\n",
    "\n",
    "    typatm = np.dtype([('typ', 'S2'), ('pos', float, (3,)), ('rad', float), ('id', int)])\n",
    "    lig_ele_list = ['C','N','O','S','P','F','Cl','Br','I','H']\n",
    "    pro_ele_list = ['C','N','O','S','H']\n",
    "    aa_list = ['ALA','ARG','ASN','ASP','CYS','GLU','GLN','GLY','HIS','HSE','HSD','SEC',\n",
    "               'ILE','LEU','LYS','MET','PHE','PRO','SER','THR','TRP','TYR','VAL','PYL']\n",
    "\n",
    "    def gettyp( rawtyp ):\n",
    "        if not rawtyp[1].isalpha():\n",
    "            typ = ' '+rawtyp[0]\n",
    "        else:\n",
    "            typ = rawtyp\n",
    "        return typ\n",
    "\n",
    "    LIG = np.zeros([s.natom], dtype = typatm)\n",
    "    for i in range(s.natom):\n",
    "        LIG[i]['pos'][:] = s.pos[i,:]\n",
    "        LIG[i]['typ'] = s.atmtyp[i]\n",
    "        LIG[i]['id'] = 1\n",
    "\n",
    "    pronum = 0\n",
    "    profile = open(working_dir+'/'+protein_name+'.pdb')\n",
    "    lines = profile.read().splitlines()\n",
    "    for line in lines:\n",
    "        if line[0:4] == 'ATOM' and line[17:20] in aa_list:\n",
    "            typ = line[12:14].replace(\" \",\"\")\n",
    "            x = float(line[30:38]); y = float(line[38:46]); z = float(line[46:54])\n",
    "            for j in range(0,len(LIG)):\n",
    "                dis = np.linalg.norm(np.array([x,y,z])-LIG[j]['pos'])\n",
    "                if dis <= cut and typ in pro_ele_list:\n",
    "                    pronum += 1\n",
    "                    break\n",
    "    PRO = np.zeros([pronum], dtype = typatm)\n",
    "    j = 0\n",
    "    for line in lines:\n",
    "        if line[0:4] == 'ATOM' and line[17:20] in aa_list:\n",
    "            typ = line[12:14]\n",
    "            x = float(line[30:38]); y = float(line[38:46]); z = float(line[46:54])\n",
    "            for k in range(0,len(LIG)):\n",
    "                dis = np.linalg.norm(np.array([x,y,z])-LIG[k]['pos'])\n",
    "                if dis <= cut and typ.replace(\" \", \"\") in pro_ele_list:\n",
    "                    PRO[j]['typ'] = typ; PRO[j]['pos'][:] = np.array([x,y,z]);\n",
    "                    PRO[j]['id'] = -1; j+=1\n",
    "                    break\n",
    "    print 'Number of atoms in ligand/protein with cutoff ', str(cut)\n",
    "    print len(LIG), '/', len(PRO)\n",
    "    outname = protein_name+'_'+str(cut)+'.struct';\n",
    "    outfile = open(working_dir+'/'+outname, 'w')\n",
    "    np.savez(outfile,PRO=PRO,LIG=LIG)\n",
    "    outfile.close()\n",
    "\n"
   ]
  },
  {
   "cell_type": "code",
   "execution_count": 26,
   "metadata": {
    "collapsed": true
   },
   "outputs": [],
   "source": [
    "class SmallMolecule:\n",
    "\n",
    "    def __init__(self, ligand_name, working_dir):\n",
    "        # Read mol2 file\n",
    "        mol2file = open(working_dir+'/'+ligand_name+'.mol2')\n",
    "        lines = mol2file.read().splitlines()\n",
    "        for i in range(len(lines)):\n",
    "            if lines[i].replace(\" \",\"\") == '@<TRIPOS>MOLECULE':\n",
    "                self.natom, self.nbond, _, _, _ = lines[i+2].split()\n",
    "                self.natom = int(self.natom); self.nbond = int(self.nbond);\n",
    "                break\n",
    "        self.pos = np.empty([self.natom, 3], float);\n",
    "        self.atmtyp = [];\n",
    "        self.chg = np.empty([self.natom], float);\n",
    "        self.bond = [];\n",
    "        for i in range(len(lines)):\n",
    "            if lines[i].replace(\" \",\"\") == '@<TRIPOS>ATOM':\n",
    "                for j in range(self.natom):\n",
    "                    line = lines[i+j+1]\n",
    "                    _,_,x,y,z,t,_,_,c = line.split()\n",
    "                    self.pos[j,:] = np.array([float(x),float(y),float(z)])[:]\n",
    "                    self.chg[j] = float(c)\n",
    "                    if '.' in t:\n",
    "                        tt,_ = t.split('.')\n",
    "                    else:\n",
    "                        tt = t\n",
    "                    self.atmtyp.append(tt)\n",
    "                break\n",
    "        for i in range(len(lines)):\n",
    "            if lines[i].replace(\" \",\"\") == '@<TRIPOS>BOND':\n",
    "                for j in range(self.nbond):\n",
    "                    line = lines[i+j+1]\n",
    "                    _,a,b,_ = line.split()\n",
    "                    self.bond.append([int(a), int(b)]);\n",
    "                break"
   ]
  },
  {
   "cell_type": "code",
   "execution_count": 27,
   "metadata": {},
   "outputs": [
    {
     "name": "stdout",
     "output_type": "stream",
     "text": [
      "Number of atoms in ligand/protein with cutoff  50.0\n",
      "29 / 9468\n"
     ]
    }
   ],
   "source": [
    "\n",
    "working_dir = '/home/joakim/exjobb/exjobb/Literature/journal.pcbi.1005929.s002/1a8i' # Full path to the folder '1a8i'\n",
    "ligand_name = '1a8i_ligand'\n",
    "protein_name = '1a8i_protein'\n",
    "\n",
    "a = SmallMolecule(ligand_name,working_dir)\n",
    "get_pdb_structure(a, 50.0, protein_name, working_dir)"
   ]
  }
 ],
 "metadata": {
  "kernelspec": {
   "display_name": "Python 2",
   "language": "python",
   "name": "python2"
  },
  "language_info": {
   "codemirror_mode": {
    "name": "ipython",
    "version": 2
   },
   "file_extension": ".py",
   "mimetype": "text/x-python",
   "name": "python",
   "nbconvert_exporter": "python",
   "pygments_lexer": "ipython2",
   "version": "2.7.14"
  }
 },
 "nbformat": 4,
 "nbformat_minor": 2
}
