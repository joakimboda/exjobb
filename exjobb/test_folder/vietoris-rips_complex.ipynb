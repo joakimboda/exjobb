{
 "cells": [
  {
   "cell_type": "code",
   "execution_count": 34,
   "metadata": {},
   "outputs": [],
   "source": [
    "import numpy as np\n",
    "from itertools import combinations\n",
    "from scipy.sparse import dok_matrix\n",
    "from operator import add\n",
    "\n",
    "class SimplicialComplex:\n",
    "    def __init__(self, simplices=[]):\n",
    "        self.import_simplices(simplices=simplices)\n",
    "        print('1')\n",
    " \n",
    "    def import_simplices(self, simplices=[]):\n",
    "        self.simplices = map(lambda simplex: tuple(sorted(simplex)), simplices)\n",
    "        #self.face_set = self.faces()\n",
    "        self.face_set = faces(self)"
   ]
  },
  {
   "cell_type": "code",
   "execution_count": 35,
   "metadata": {
    "collapsed": true
   },
   "outputs": [],
   "source": [
    "def faces(self):\n",
    "    faceset = set()\n",
    "    for simplex in self.simplices:\n",
    "        numnodes = len(simplex)\n",
    "        for r in range(numnodes, 0, -1):\n",
    "            for face in combinations(simplex, r):\n",
    "                faceset.add(face)\n",
    "    return faceset"
   ]
  },
  {
   "cell_type": "code",
   "execution_count": 36,
   "metadata": {},
   "outputs": [],
   "source": [
    "import networkx as nx\n",
    "from scipy.spatial import distance\n",
    "from itertools import product\n",
    " \n",
    "class VietorisRipsComplex(SimplicialComplex):\n",
    "    def __init__(self, points, epsilon, labels=None, distfcn=distance.euclidean):\n",
    "        self.pts = points\n",
    "        self.labels = range(len(self.pts)) if labels==None or len(labels)!=len(self.pts) else labels\n",
    "        self.epsilon = epsilon\n",
    "        self.distfcn = distfcn\n",
    "        self.network = self.construct_network(self.pts, self.labels, self.epsilon, self.distfcn)\n",
    "        self.import_simplices(map(tuple, list(nx.find_cliques(self.network))))\n",
    " \n",
    "    def construct_network(self, points, labels, epsilon, distfcn):\n",
    "        g = nx.Graph()\n",
    "        g.add_nodes_from(labels)\n",
    "        zips = zip(points, labels)\n",
    "        for pair in product(zips, zips):\n",
    "            if pair[0][1]!=pair[1][1]:\n",
    "                dist = distfcn(pair[0][0], pair[1][0])\n",
    "                if dist < epsilon:\n",
    "                    g.add_edge(pair[0][1], pair[1][1])\n",
    "        return g"
   ]
  },
  {
   "cell_type": "code",
   "execution_count": 37,
   "metadata": {
    "collapsed": true
   },
   "outputs": [],
   "source": [
    "def n_faces(self, n):\n",
    "    return filter(lambda face: len(face)==n+1, self.face_set)"
   ]
  },
  {
   "cell_type": "code",
   "execution_count": 38,
   "metadata": {},
   "outputs": [
    {
     "name": "stdout",
     "output_type": "stream",
     "text": [
      "2\n",
      "1\n",
      "<__main__.SimplicialComplex instance at 0x7f69ccc9be18>\n"
     ]
    },
    {
     "ename": "AttributeError",
     "evalue": "SimplicialComplex instance has no attribute '__len__'",
     "output_type": "error",
     "traceback": [
      "\u001b[0;31m---------------------------------------------------------------------------\u001b[0m",
      "\u001b[0;31mAttributeError\u001b[0m                            Traceback (most recent call last)",
      "\u001b[0;32m<ipython-input-38-297d30087939>\u001b[0m in \u001b[0;36m<module>\u001b[0;34m()\u001b[0m\n\u001b[1;32m      6\u001b[0m \u001b[0mfaces\u001b[0m\u001b[0;34m(\u001b[0m\u001b[0msc\u001b[0m\u001b[0;34m)\u001b[0m\u001b[0;34m\u001b[0m\u001b[0m\n\u001b[1;32m      7\u001b[0m \u001b[0;31m#sg=VietorisRipsComplex(sc)\u001b[0m\u001b[0;34m\u001b[0m\u001b[0;34m\u001b[0m\u001b[0m\n\u001b[0;32m----> 8\u001b[0;31m \u001b[0msg2\u001b[0m\u001b[0;34m=\u001b[0m\u001b[0mAlphaComplex\u001b[0m\u001b[0;34m(\u001b[0m\u001b[0msc\u001b[0m\u001b[0;34m,\u001b[0m\u001b[0;34m'1'\u001b[0m\u001b[0;34m)\u001b[0m\u001b[0;34m\u001b[0m\u001b[0m\n\u001b[0m",
      "\u001b[0;32m<ipython-input-13-cdd26d97ac78>\u001b[0m in \u001b[0;36m__init__\u001b[0;34m(self, points, epsilon, labels, distfcn)\u001b[0m\n\u001b[1;32m     24\u001b[0m     \u001b[0;32mdef\u001b[0m \u001b[0m__init__\u001b[0m\u001b[0;34m(\u001b[0m\u001b[0mself\u001b[0m\u001b[0;34m,\u001b[0m \u001b[0mpoints\u001b[0m\u001b[0;34m,\u001b[0m \u001b[0mepsilon\u001b[0m\u001b[0;34m,\u001b[0m \u001b[0mlabels\u001b[0m\u001b[0;34m=\u001b[0m\u001b[0mNone\u001b[0m\u001b[0;34m,\u001b[0m \u001b[0mdistfcn\u001b[0m\u001b[0;34m=\u001b[0m\u001b[0mdistance\u001b[0m\u001b[0;34m.\u001b[0m\u001b[0meuclidean\u001b[0m\u001b[0;34m)\u001b[0m\u001b[0;34m:\u001b[0m\u001b[0;34m\u001b[0m\u001b[0m\n\u001b[1;32m     25\u001b[0m         \u001b[0mself\u001b[0m\u001b[0;34m.\u001b[0m\u001b[0mpts\u001b[0m \u001b[0;34m=\u001b[0m \u001b[0mpoints\u001b[0m\u001b[0;34m\u001b[0m\u001b[0m\n\u001b[0;32m---> 26\u001b[0;31m         \u001b[0mself\u001b[0m\u001b[0;34m.\u001b[0m\u001b[0mlabels\u001b[0m \u001b[0;34m=\u001b[0m \u001b[0mrange\u001b[0m\u001b[0;34m(\u001b[0m\u001b[0mlen\u001b[0m\u001b[0;34m(\u001b[0m\u001b[0mself\u001b[0m\u001b[0;34m.\u001b[0m\u001b[0mpts\u001b[0m\u001b[0;34m)\u001b[0m\u001b[0;34m)\u001b[0m \u001b[0;32mif\u001b[0m \u001b[0mlabels\u001b[0m\u001b[0;34m==\u001b[0m\u001b[0mNone\u001b[0m \u001b[0;32mor\u001b[0m \u001b[0mlen\u001b[0m\u001b[0;34m(\u001b[0m\u001b[0mlabels\u001b[0m\u001b[0;34m)\u001b[0m\u001b[0;34m!=\u001b[0m\u001b[0mlen\u001b[0m\u001b[0;34m(\u001b[0m\u001b[0mself\u001b[0m\u001b[0;34m.\u001b[0m\u001b[0mpts\u001b[0m\u001b[0;34m)\u001b[0m \u001b[0;32melse\u001b[0m \u001b[0mlabels\u001b[0m\u001b[0;34m\u001b[0m\u001b[0m\n\u001b[0m\u001b[1;32m     27\u001b[0m         \u001b[0mself\u001b[0m\u001b[0;34m.\u001b[0m\u001b[0mepsilon\u001b[0m \u001b[0;34m=\u001b[0m \u001b[0mepsilon\u001b[0m\u001b[0;34m\u001b[0m\u001b[0m\n\u001b[1;32m     28\u001b[0m         \u001b[0mself\u001b[0m\u001b[0;34m.\u001b[0m\u001b[0mdistfcn\u001b[0m \u001b[0;34m=\u001b[0m \u001b[0mdistfcn\u001b[0m\u001b[0;34m\u001b[0m\u001b[0m\n",
      "\u001b[0;31mAttributeError\u001b[0m: SimplicialComplex instance has no attribute '__len__'"
     ]
    }
   ],
   "source": [
    "print('2')\n",
    "sampl = np.random.uniform(low=-6.0, high=6.0, size=(50,3))\n",
    "#sc = SimplicialComplex([('a', 'b', 'c', 'd')])\n",
    "sc = SimplicialComplex(sampl)\n",
    "print(sc)\n",
    "faces(sc)\n",
    "#sg=VietorisRipsComplex(sc)\n",
    "sg2=AlphaComplex(sc,'1')\n"
   ]
  },
  {
   "cell_type": "code",
   "execution_count": null,
   "metadata": {},
   "outputs": [],
   "source": [
    "from scipy.spatial import Delaunay, distance\n",
    "from operator import or_\n",
    "from functools import partial\n",
    " \n",
    "def facesiter(simplex):\n",
    "    for i in range(len(simplex)):\n",
    "        yield simplex[:i]+simplex[(i+1):]\n",
    " \n",
    "def flattening_simplex(simplices):\n",
    "    for simplex in simplices:\n",
    "        for point in simplex:\n",
    "            yield point\n",
    "\n",
    "def get_allpoints(simplices):\n",
    "    return set(flattening_simplex(simplices))\n",
    " \n",
    "def contain_detachededges(simplex, distdict, epsilon):\n",
    "    if len(simplex)==2:\n",
    "        return (distdict[simplex[0], simplex[1]] > 2*epsilon)\n",
    "    else:\n",
    "        return reduce(or_, map(partial(contain_detachededges, distdict=distdict, epsilon=epsilon), facesiter(simplex)))\n",
    " \n",
    "class AlphaComplex(SimplicialComplex):\n",
    "    def __init__(self, points, epsilon, labels=None, distfcn=distance.euclidean):\n",
    "        self.pts = points\n",
    "        self.labels = range(len(self.pts)) if labels==None or len(labels)!=len(self.pts) else labels\n",
    "        self.epsilon = epsilon\n",
    "        self.distfcn = distfcn\n",
    "        self.import_simplices(self.construct_simplices(self.pts, self.labels, self.epsilon, self.distfcn))\n",
    " \n",
    "    def calculate_distmatrix(self, points, labels, distfcn):\n",
    "        distdict = {}\n",
    "        for i in range(len(labels)):\n",
    "            for j in range(len(labels)):\n",
    "                distdict[(labels[i], labels[j])] = distfcn(points[i], points[j])\n",
    "        return distdict\n",
    " \n",
    "    def construct_simplices(self, points, labels, epsilon, distfcn):\n",
    "        delaunay = Delaunay(points)\n",
    "        delaunay_simplices = map(tuple, delaunay.simplices)\n",
    "        distdict = self.calculate_distmatrix(points, labels, distfcn)\n",
    " \n",
    "        simplices = []\n",
    "        for simplex in delaunay_simplices:\n",
    "            faces = list(facesiter(simplex))\n",
    "            detached = map(partial(contain_detachededges, distdict=distdict, epsilon=epsilon), faces)\n",
    "            if reduce(or_, detached):\n",
    "                if len(simplex)>2:\n",
    "                    for face, notkeep in zip(faces, detached):\n",
    "                        if not notkeep:\n",
    "                            simplices.append(face)\n",
    "            else:\n",
    "                simplices.append(simplex)\n",
    "        simplices = map(lambda simplex: tuple(sorted(simplex)), simplices)\n",
    "        simplices = list(set(simplices))\n",
    " \n",
    "        allpts = get_allpoints(simplices)\n",
    "        for point in (set(labels)-allpts):\n",
    "            simplices += [(point,)]\n",
    " \n",
    "        return simplices"
   ]
  }
 ],
 "metadata": {
  "kernelspec": {
   "display_name": "Python 2",
   "language": "python",
   "name": "python2"
  },
  "language_info": {
   "codemirror_mode": {
    "name": "ipython",
    "version": 2
   },
   "file_extension": ".py",
   "mimetype": "text/x-python",
   "name": "python",
   "nbconvert_exporter": "python",
   "pygments_lexer": "ipython2",
   "version": "2.7.14"
  }
 },
 "nbformat": 4,
 "nbformat_minor": 2
}
