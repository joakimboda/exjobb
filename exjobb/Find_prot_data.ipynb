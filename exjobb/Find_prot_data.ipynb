{
 "cells": [
  {
   "cell_type": "markdown",
   "metadata": {},
   "source": [
    "Importing the pdb structure"
   ]
  },
  {
   "cell_type": "markdown",
   "metadata": {},
   "source": [
    "from biopandas.pdb import PandasPdb\n",
    "import sys\n",
    "import re\n",
    "import matplotlib.pyplot as plt\n",
    "from matplotlib import cm\n",
    "import math\n",
    "import numpy as np\n",
    "\n",
    "\n",
    "def find_structure_params(structure):\n",
    "    \n",
    "    structure_data={}\n",
    "    \n",
    "    for index, row in structure_atoms.iterrows():\n",
    "        print  row.keys#row['atom_name']\n",
    "        \n",
    "\n",
    "\n"
   ]
  },
  {
   "cell_type": "code",
   "execution_count": 274,
   "metadata": {
    "collapsed": true
   },
   "outputs": [],
   "source": [
    "import Bio\n",
    "from Bio.PDB import *\n",
    "import sys\n",
    "import re\n",
    "import matplotlib.pyplot as plt\n",
    "from matplotlib import cm\n",
    "import math\n",
    "import numpy as np\n",
    " \n",
    "        \n",
    "def find_structure_params(structure):\n",
    "    \n",
    "    #structure_data.append([Chain_id,Seg_id, residue_name, atom_name, atom_coord_vector])\n",
    "    structure_data={}\n",
    "    \n",
    "    for model in structure:\n",
    "        for chain in model:\n",
    "            #for atom in structure.get_atoms():  If I want all atoms in a structure, depends if I want the residue\n",
    "            for residue in chain:\n",
    "                #if residue.get_full_id()[3][0]==' ':  #If I want to remove HOH etc (hetero-atoms) use this!\n",
    "                    for atom in residue:\n",
    "                        key = chain.get_id() + str(atom.serial_number)\n",
    "                        structure_data[key]=([chain.get_id(),residue.get_resname(),atom.get_name(),atom.get_vector()])\n",
    "   # for i in structure_data:\n",
    "       # if i[0]=='L':\n",
    "     #       print i\n",
    "\n",
    "\n",
    "    return (structure_data)\n",
    "\n",
    "\n"
   ]
  },
  {
   "cell_type": "markdown",
   "metadata": {},
   "source": [
    "How to find different atoms for the 11 layers"
   ]
  },
  {
   "cell_type": "code",
   "execution_count": 275,
   "metadata": {
    "collapsed": true
   },
   "outputs": [],
   "source": [
    "def make_atom_layers(structure_data):\n",
    "    \n",
    "    layer1_check = ['CYS:SG','MET:SD','MSE:SE']\n",
    "    layer2_check = ['ASN:ND2','GLN:NE2'] #Backbone N\n",
    "    layer3_check = ['HIS:ND1','HIS:NE1','TRP:NE1']\n",
    "    layer4_check = ['ARG:NE','ARG:NH1','ARG:NH2','ARG:NH3']\n",
    "    layer5_check = ['LYS:NZ']\n",
    "    layer6_check = ['ASN:OD1','GLN:OE1'] #Backbone O?\n",
    "    layer7_check = ['SER:OG','THR:OG1','TYR:OH']\n",
    "    layer8_check = ['ASP:OD1','ASP:OD2','ASP:OD3','GLU:OE1','GLU:OE2','GLU:OE3']\n",
    "    layer9_check = ['ARG:CZ','ASN:CG','ASP:CG','GLN:CD','GLU:CD'] #Backbone C?\n",
    "    layer10_check = ['HIS:CG','HIS:CD2','HIS:CE1','PHE:CG','PHE:CD1','PHE:CD2','PHE:CD3','PHE:CE1','PHE:CE2','PHE:CE3''PHE:CZ','TRP:CG','TRP:CD1','TRP:CD2','TRP:CD3','TRP:CD3','TRP:CE1','TRP:CE2','TRP:CE3','TRP:CZ1','TRP:CZ2','TRP:CZ3','TRP:CH2','TYR:CG','TYR:CD1','TYR:CD2','TYR:CD3','TYR:CE1','TYR:CE2','TYR:CE3','TYR:CZ']\n",
    "    layer11_check = ['ALA:CB','ARG:CB','ARG:CG','ARG:CD','ASN:CB','ASP:CB','CYS:CB','GLN:CB','GLN:CG','GLU:CB','GLU:CG','HIS:CB','ILE:CB','ILE:CG1','ILE:CG2','ILE:CG3','ILE:CD1','LEU:CB','LEU:CG','LEU:CD1','LEU:CD2','LEU:CD3','LYS:CB','LYS:CG','LYS:CD','LYS:CE','MET:CB','MET:CG','MET:CE','MSE:CB','MSE:CG','MSE:CE','PHE:CB','PRO:CB','PRO:CG','PRO:CD','SER:CB','THR:CB','THR:CG2','TRP:CB','TYR:CB','VAL:CB','VAL:CG1','VAL:CG2','VAL:CG3'] #Backbone CA?\n",
    "    #layers=[[],[],[],[],[],[],[],[],[],[],[],[]] #Fult, vill göra på något annat sätt\n",
    "    \n",
    "    layers={}\n",
    "    \n",
    "    for key, atom in structure_data.iteritems():\n",
    "        if atom[2] == 'N':\n",
    "            layers.setdefault('2', []).append(atom)\n",
    "        elif atom[2] == 'O':\n",
    "            layers.setdefault('6', []).append(atom)\n",
    "        elif atom[2] == 'C':\n",
    "            layers.setdefault('9', []).append(atom)\n",
    "        elif atom[2] == 'CA':\n",
    "            layers.setdefault('11', []).append(atom)\n",
    "        elif atom[2] == 'OXT':\n",
    "            layers.setdefault('8', []).append(atom)\n",
    "        else:\n",
    "            atom_type = atom[1] + ':' + atom[2]\n",
    "            if atom_type in layer1_check:\n",
    "                layers.setdefault('1', []).append(atom)\n",
    "            elif atom_type in layer2_check:\n",
    "                layers.setdefault('2', []).append(atom)\n",
    "            elif atom_type in layer3_check:\n",
    "                layers.setdefault('3', []).append(atom)\n",
    "            elif atom_type in layer4_check:\n",
    "                layers.setdefault('4', []).append(atom)\n",
    "            elif atom_type in layer5_check:\n",
    "                layers.setdefault('5', []).append(atom)\n",
    "            elif atom_type in layer6_check:\n",
    "                layers.setdefault('6', []).append(atom)\n",
    "            elif atom_type in layer7_check:\n",
    "                layers.setdefault('7', []).append(atom)\n",
    "            elif atom_type in layer8_check:\n",
    "                layers.setdefault('8', []).append(atom)\n",
    "            elif atom_type in layer9_check:\n",
    "                layers.setdefault('9', []).append(atom)\n",
    "            elif atom_type in layer10_check:\n",
    "                layers.setdefault('10', []).append(atom)\n",
    "            elif atom_type in layer11_check:\n",
    "                layers.setdefault('11', []).append(atom)\n",
    "            else:\n",
    "                g=1 #layers.setdefault('12', []).append(atom)\n",
    "\n",
    "    return(layers)"
   ]
  },
  {
   "cell_type": "code",
   "execution_count": 276,
   "metadata": {
    "collapsed": true
   },
   "outputs": [],
   "source": [
    "def find_midpoint(structure_data):\n",
    "    \n",
    "    allvectors = structure_data.values()[1][3]-structure_data.values()[1][3] #forstå hur man gör ett vector object!\n",
    "    #allvectors = np.array([0,0,0])\n",
    "    i=0     \n",
    "    for key, atom in structure_data.iteritems():\n",
    "        allvectors=allvectors+atom[3]\n",
    "        i=i+1\n",
    "    midpoint=allvectors/i\n",
    "    return(midpoint)    "
   ]
  },
  {
   "cell_type": "code",
   "execution_count": 277,
   "metadata": {
    "collapsed": true
   },
   "outputs": [],
   "source": [
    "def normalize_in_origo(midpoint,structure_data):\n",
    "\n",
    "    for key,atom in structure_data.iteritems():\n",
    "        newvector = atom[3] - midpoint\n",
    "        atom_new=[atom[0],atom[1],atom[2],newvector]\n",
    "        structure_data[key]=atom_new\n",
    "\n",
    "    return (structure_data)"
   ]
  },
  {
   "cell_type": "code",
   "execution_count": 278,
   "metadata": {},
   "outputs": [],
   "source": [
    "def make_density_maps(layers):\n",
    "    \n",
    "        density_maps= []\n",
    "        for g in range(1, 12):\n",
    "            density_maps.append(np.zeros((120,120,120)))\n",
    "            \n",
    "        for key,atom in layers.iteritems():\n",
    "            for pos in atom:\n",
    "                x=int(np.around(pos[3][0], decimals=0))+60\n",
    "                y=int(np.around(pos[3][1], decimals=0))+60\n",
    "                z=int(np.around(pos[3][2], decimals=0))+60\n",
    "                \n",
    "                for xx in range(-2,3):\n",
    "                    for yy in range(-2,3):\n",
    "                        for zz in range(-2,3):\n",
    "                            r=float(max(abs(xx),abs(yy),abs(zz)))\n",
    "                            density=math.exp(-((r**2)/2))\n",
    "                            density_maps[(int(key)-1)][x+xx][y+yy][z+zz]=density_maps[(int(key)-1)][x+xx][y+yy][z+zz]+density\n",
    "        return density_maps                 "
   ]
  },
  {
   "cell_type": "code",
   "execution_count": 279,
   "metadata": {
    "collapsed": true
   },
   "outputs": [],
   "source": [
    "\n",
    "def plot_4d(density_maps):\n",
    "    import numpy as np\n",
    "    from scipy import stats\n",
    "    import matplotlib.pyplot as plt\n",
    "    from mpl_toolkits.mplot3d import Axes3D \n",
    "\n",
    "    mu, sigma = 0, 0.1 \n",
    "    x = density_maps[10][0]\n",
    "    y = density_maps[10][1]\n",
    "    z = density_maps[10][2]\n",
    "\n",
    "    xyz = np.vstack([x,y,z])\n",
    "    density = stats.gaussian_kde(xyz)(xyz) \n",
    "\n",
    "    idx = density.argsort()\n",
    "    x, y, z, density = x[idx], y[idx], z[idx], density[idx]\n",
    "\n",
    "    fig = plt.figure()\n",
    "    ax = fig.add_subplot(111, projection='3d')\n",
    "    ax.scatter(x, y, z, c=density)\n",
    "    plt.show()"
   ]
  },
  {
   "cell_type": "code",
   "execution_count": 280,
   "metadata": {
    "scrolled": false
   },
   "outputs": [
    {
     "name": "stdout",
     "output_type": "stream",
     "text": [
      "[['A', 'TYR', 'CZ', <Vector 2.94, -6.66, -6.97>], ['A', 'TYR', 'CE1', <Vector -4.78, 2.50, 13.09>], ['A', 'TYR', 'CE2', <Vector -3.30, 2.06, 11.24>], ['A', 'TYR', 'CZ', <Vector -3.59, 2.03, 12.59>], ['A', 'TYR', 'CG', <Vector -5.47, 3.08, 10.84>], ['A', 'TYR', 'CD1', <Vector -5.72, 3.04, 12.21>], ['A', 'TYR', 'CD2', <Vector -4.24, 2.60, 10.37>], ['A', 'TYR', 'CZ', <Vector -7.27, 17.20, 0.43>], ['A', 'TYR', 'CZ', <Vector -14.82, -1.17, -4.65>], ['A', 'TYR', 'CE1', <Vector -13.46, -1.42, -4.53>], ['A', 'TYR', 'CE2', <Vector -15.49, -0.45, -3.69>], ['A', 'TYR', 'CG', <Vector 1.19, -4.50, -6.76>], ['A', 'TYR', 'CD2', <Vector 0.71, -5.78, -6.96>], ['A', 'TYR', 'CD1', <Vector 2.58, -4.30, -6.68>], ['A', 'TYR', 'CE2', <Vector 1.60, -6.87, -7.02>], ['A', 'TYR', 'CE1', <Vector 3.46, -5.41, -6.79>], ['A', 'PHE', 'CE2', <Vector 1.88, -11.78, 0.61>], ['A', 'PHE', 'CE1', <Vector 1.59, -10.81, 2.84>], ['A', 'PHE', 'CG', <Vector 3.77, -10.80, 1.78>], ['A', 'PHE', 'CD2', <Vector 3.23, -11.47, 0.67>], ['A', 'PHE', 'CD1', <Vector 2.96, -10.52, 2.87>], ['A', 'PHE', 'CE2', <Vector -5.58, -7.52, 5.15>], ['A', 'PHE', 'CE1', <Vector -4.64, -6.11, 3.47>], ['A', 'PHE', 'CD2', <Vector -6.71, -7.75, 4.32>], ['A', 'PHE', 'CD1', <Vector -5.76, -6.33, 2.66>], ['A', 'PHE', 'CG', <Vector -6.79, -7.14, 3.08>], ['A', 'TYR', 'CE2', <Vector 16.99, -0.62, 6.74>], ['A', 'HIS', 'CD2', <Vector -10.89, 19.58, -3.90>], ['A', 'HIS', 'CG', <Vector -10.07, 18.58, -4.34>], ['A', 'HIS', 'CE1', <Vector -11.88, 18.59, -5.60>], ['A', 'PHE', 'CG', <Vector -0.58, -6.30, 5.67>], ['A', 'HIS', 'CE1', <Vector 3.59, 6.77, -10.67>], ['A', 'HIS', 'CD2', <Vector 5.34, 5.58, -10.09>], ['A', 'TRP', 'CH2', <Vector 12.96, -5.45, -2.49>], ['A', 'TRP', 'CZ3', <Vector 11.55, -5.24, -2.42>], ['A', 'TRP', 'CZ2', <Vector 13.65, -6.11, -1.51>], ['A', 'TRP', 'CE3', <Vector 10.83, -5.74, -1.36>], ['A', 'TRP', 'CE2', <Vector 12.92, -6.58, -0.43>], ['A', 'PHE', 'CD1', <Vector -11.93, 14.98, -4.56>], ['A', 'PHE', 'CD2', <Vector -10.12, 13.51, -4.00>], ['A', 'PHE', 'CG', <Vector -11.05, 13.98, -4.94>], ['A', 'PHE', 'CE1', <Vector -11.88, 15.53, -3.29>], ['A', 'PHE', 'CE2', <Vector -10.07, 14.06, -2.74>], ['A', 'HIS', 'CG', <Vector 4.23, 4.90, -9.72>], ['A', 'TRP', 'CG', <Vector 11.09, -7.01, 0.87>], ['A', 'TRP', 'CD1', <Vector 12.22, -7.53, 1.47>], ['A', 'TRP', 'CD2', <Vector 11.51, -6.41, -0.33>], ['A', 'PHE', 'CD1', <Vector 8.40, -0.48, -7.25>], ['A', 'PHE', 'CE1', <Vector -6.96, 11.57, -2.80>], ['A', 'PHE', 'CD2', <Vector -6.46, 10.60, -5.35>], ['A', 'PHE', 'CE2', <Vector -6.84, 9.73, -4.32>], ['A', 'PHE', 'CD1', <Vector -6.58, 12.45, -3.83>], ['A', 'PHE', 'CG', <Vector -6.31, 11.97, -5.10>], ['A', 'PHE', 'CE2', <Vector -8.52, 2.31, 6.76>], ['A', 'PHE', 'CE1', <Vector -8.75, 0.29, 5.47>], ['A', 'PHE', 'CD2', <Vector -9.83, 2.66, 6.43>], ['A', 'PHE', 'CD1', <Vector -10.07, 0.63, 5.14>], ['A', 'PHE', 'CG', <Vector -10.61, 1.82, 5.64>], ['A', 'TYR', 'CZ', <Vector 10.45, 4.93, -1.26>], ['A', 'TYR', 'CE2', <Vector 10.17, 6.01, -2.10>], ['A', 'HIS', 'CE1', <Vector 19.48, 2.34, 4.42>], ['A', 'HIS', 'CG', <Vector 19.22, 0.30, 3.65>], ['A', 'HIS', 'CD2', <Vector 20.52, 0.62, 3.54>], ['A', 'TYR', 'CD2', <Vector 4.07, -14.57, -1.61>], ['A', 'TYR', 'CD1', <Vector 5.88, -16.13, -1.75>], ['A', 'TYR', 'CE2', <Vector 3.21, -15.50, -2.25>], ['A', 'TYR', 'CE1', <Vector 5.02, -17.07, -2.37>], ['A', 'TYR', 'CZ', <Vector 3.71, -16.73, -2.61>], ['A', 'TRP', 'CZ3', <Vector 8.26, -11.94, 4.79>], ['A', 'TRP', 'CH2', <Vector 8.20, -12.07, 3.39>], ['A', 'TRP', 'CE2', <Vector 8.48, -14.41, 3.61>], ['A', 'TRP', 'CE3', <Vector 8.45, -13.03, 5.61>], ['A', 'TRP', 'CZ2', <Vector 8.30, -13.28, 2.77>], ['A', 'TRP', 'CG', <Vector 8.77, -15.63, 5.53>], ['A', 'TRP', 'CD1', <Vector 8.81, -16.46, 4.44>], ['A', 'TRP', 'CD2', <Vector 8.56, -14.30, 5.02>], ['A', 'PHE', 'CE2', <Vector -0.80, 18.05, -1.40>], ['A', 'PHE', 'CG', <Vector -14.58, 4.46, -0.08>], ['A', 'PHE', 'CD1', <Vector -15.41, 4.01, -1.10>], ['A', 'PHE', 'CD2', <Vector -13.20, 4.57, -0.32>], ['A', 'PHE', 'CE1', <Vector -14.91, 3.69, -2.34>], ['A', 'TYR', 'CG', <Vector 10.37, 4.49, -3.99>], ['A', 'TYR', 'CD1', <Vector 10.63, 3.46, -3.09>], ['A', 'TYR', 'CD2', <Vector 10.13, 5.77, -3.51>], ['A', 'TYR', 'CE1', <Vector 10.67, 3.68, -1.75>], ['A', 'PHE', 'CD1', <Vector 6.92, -9.90, -6.56>], ['A', 'PHE', 'CD2', <Vector 7.83, -12.11, -6.71>], ['A', 'PHE', 'CG', <Vector 6.74, -11.28, -6.46>], ['A', 'PHE', 'CE1', <Vector 8.17, -9.37, -6.87>], ['A', 'PHE', 'CE2', <Vector 9.10, -11.57, -7.03>], ['A', 'TRP', 'CE2', <Vector 2.81, -9.55, 6.47>], ['A', 'TRP', 'CD2', <Vector 3.88, -10.47, 6.28>], ['A', 'TRP', 'CD1', <Vector 2.10, -11.58, 7.08>], ['A', 'TRP', 'CG', <Vector 3.40, -11.75, 6.71>], ['A', 'PHE', 'CE2', <Vector -12.70, 4.26, -1.59>], ['A', 'PHE', 'CE2', <Vector 10.38, -2.04, -8.36>], ['A', 'PHE', 'CE1', <Vector 9.11, -1.38, -6.44>], ['A', 'PHE', 'CD2', <Vector 9.69, -1.16, -9.15>], ['A', 'PHE', 'CG', <Vector 8.68, -0.35, -8.60>], ['A', 'TYR', 'CZ', <Vector 22.14, -3.63, -4.30>], ['A', 'TYR', 'CE2', <Vector 20.98, -4.36, -4.19>], ['A', 'TYR', 'CE1', <Vector 22.07, -2.26, -4.53>], ['A', 'TYR', 'CD2', <Vector 19.73, -3.72, -4.30>], ['A', 'TYR', 'CD1', <Vector 20.80, -1.62, -4.62>], ['A', 'TYR', 'CG', <Vector 19.62, -2.34, -4.52>], ['A', 'TRP', 'CZ3', <Vector 5.22, -8.64, 5.46>], ['A', 'TRP', 'CH2', <Vector 4.14, -7.77, 5.65>], ['A', 'TRP', 'CE3', <Vector 5.10, -10.00, 5.78>], ['A', 'TRP', 'CZ2', <Vector 2.93, -8.21, 6.13>], ['A', 'TYR', 'CG', <Vector -13.45, -0.15, -2.46>], ['A', 'TYR', 'CD2', <Vector -14.81, 0.07, -2.62>], ['A', 'TYR', 'CD1', <Vector -12.77, -0.89, -3.43>], ['A', 'TYR', 'CD1', <Vector -5.06, 17.18, -0.48>], ['A', 'TYR', 'CD2', <Vector -6.81, 15.95, -1.56>], ['A', 'TYR', 'CE1', <Vector -5.95, 17.61, 0.50>], ['A', 'TYR', 'CE2', <Vector -7.71, 16.38, -0.59>], ['A', 'TYR', 'CG', <Vector 5.41, -14.88, -1.35>], ['A', 'TYR', 'CG', <Vector -5.47, 16.35, -1.52>], ['A', 'PHE', 'CE1', <Vector -7.13, 5.15, -7.01>], ['A', 'PHE', 'CD2', <Vector -5.31, 7.20, -6.61>], ['A', 'PHE', 'CE2', <Vector -6.29, 7.29, -7.62>], ['A', 'TYR', 'CD1', <Vector 16.61, -3.33, 7.21>], ['A', 'TYR', 'CG', <Vector 17.74, -2.71, 7.73>], ['A', 'TYR', 'CE1', <Vector 15.67, -2.61, 6.48>], ['A', 'TYR', 'CD2', <Vector 17.93, -1.35, 7.45>], ['A', 'TYR', 'CZ', <Vector 15.86, -1.26, 6.26>], ['A', 'PHE', 'CD1', <Vector -0.59, -6.22, 4.28>], ['A', 'PHE', 'CE1', <Vector -0.99, -7.31, 3.49>], ['A', 'PHE', 'CD2', <Vector -0.98, -7.50, 6.27>], ['A', 'PHE', 'CE2', <Vector -1.41, -8.57, 5.50>], ['A', 'PHE', 'CG', <Vector 0.59, 16.45, -2.57>], ['A', 'PHE', 'CD1', <Vector 0.15, 15.46, -1.70>], ['A', 'PHE', 'CD2', <Vector 0.11, 17.76, -2.40>], ['A', 'PHE', 'CE1', <Vector -0.75, 15.76, -0.69>], ['A', 'PHE', 'CD1', <Vector 2.23, -7.31, 1.60>], ['A', 'PHE', 'CD2', <Vector 1.05, -5.32, 0.93>], ['A', 'PHE', 'CG', <Vector 1.96, -5.95, 1.80>], ['A', 'PHE', 'CE1', <Vector 1.59, -8.03, 0.60>], ['A', 'PHE', 'CE2', <Vector 0.42, -6.04, -0.09>], ['A', 'PHE', 'CD2', <Vector 16.17, -12.97, 6.90>], ['A', 'PHE', 'CD1', <Vector 14.63, -13.41, 8.69>], ['A', 'PHE', 'CE2', <Vector 15.46, -13.83, 6.06>], ['A', 'PHE', 'CE1', <Vector 13.91, -14.28, 7.86>], ['A', 'PHE', 'CG', <Vector 15.76, -12.76, 8.20>], ['A', 'PHE', 'CE2', <Vector -0.77, -2.41, 2.33>], ['A', 'PHE', 'CG', <Vector -0.66, -2.26, -0.09>], ['A', 'PHE', 'CD1', <Vector -1.73, -3.15, -0.18>], ['A', 'PHE', 'CD2', <Vector -0.21, -1.86, 1.17>], ['A', 'PHE', 'CE1', <Vector -2.27, -3.70, 0.98>], ['A', 'TYR', 'CZ', <Vector 11.13, -1.71, 2.67>], ['A', 'TYR', 'CG', <Vector 13.40, -3.18, 2.02>], ['A', 'TYR', 'CD1', <Vector 12.20, -3.42, 1.38>], ['A', 'TYR', 'CD2', <Vector 13.45, -2.20, 2.99>], ['A', 'TYR', 'CE1', <Vector 11.05, -2.67, 1.72>], ['A', 'TYR', 'CE2', <Vector 12.31, -1.45, 3.32>], ['A', 'PHE', 'CD1', <Vector -6.17, 5.08, -5.99>], ['A', 'PHE', 'CG', <Vector -5.23, 6.09, -5.80>]]\n"
     ]
    }
   ],
   "source": [
    "def main():\n",
    "    filename_pdb = '/home/joakim/Downloads/2HIY_A.pdb' #'/home/joakim/Downloads/D1A2K-a0a-merged.pdb'\n",
    "    \n",
    "    PDBobj = PDBParser()\n",
    "    structure = PDBobj.get_structure(filename_pdb, filename_pdb)\n",
    "    \n",
    "   # structure=PandasPdb().read_pdb(filename_pdb)\n",
    "   # structure_atoms = structure.df['ATOM']\n",
    "\n",
    "    \n",
    "    structure_data = find_structure_params(structure)\n",
    "    \n",
    "    midpoint = find_midpoint(structure_data) #Avrundning gör att det blir lite konstigt,!! Kolla upp\n",
    "\n",
    "    structure_data = normalize_in_origo(midpoint,structure_data)\n",
    "    \n",
    "    layers = make_atom_layers(structure_data)\n",
    "    print layers['10']\n",
    "    #Create 11 density maps (zeros)\n",
    "    density_maps = make_density_maps(layers)\n",
    "\n",
    "\n",
    "   # plot_4d(density_maps)\n",
    "\n",
    "    \n",
    "   # for key, atom in layers.iteritems():\n",
    "        #print key\n",
    "        #for i in atom:\n",
    "           # print i\n",
    "    \n",
    "if __name__ == '__main__':\n",
    "  main()"
   ]
  },
  {
   "cell_type": "code",
   "execution_count": null,
   "metadata": {
    "collapsed": true
   },
   "outputs": [],
   "source": []
  }
 ],
 "metadata": {
  "kernelspec": {
   "display_name": "Python 2",
   "language": "python",
   "name": "python2"
  },
  "language_info": {
   "codemirror_mode": {
    "name": "ipython",
    "version": 2
   },
   "file_extension": ".py",
   "mimetype": "text/x-python",
   "name": "python",
   "nbconvert_exporter": "python",
   "pygments_lexer": "ipython2",
   "version": "2.7.14"
  }
 },
 "nbformat": 4,
 "nbformat_minor": 2
}
