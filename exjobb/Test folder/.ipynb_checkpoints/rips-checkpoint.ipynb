{
 "cells": [
  {
   "cell_type": "code",
   "execution_count": 1,
   "metadata": {},
   "outputs": [
    {
     "ename": "ImportError",
     "evalue": "No module named dionysus",
     "output_type": "error",
     "traceback": [
      "\u001b[1;31m---------------------------------------------------------------------------\u001b[0m",
      "\u001b[1;31mImportError\u001b[0m                               Traceback (most recent call last)",
      "\u001b[1;32m<ipython-input-1-2374239ad957>\u001b[0m in \u001b[0;36m<module>\u001b[1;34m()\u001b[0m\n\u001b[1;32m----> 1\u001b[1;33m \u001b[1;32mfrom\u001b[0m    \u001b[0mdionysus\u001b[0m    \u001b[1;32mimport\u001b[0m \u001b[0mRips\u001b[0m\u001b[1;33m,\u001b[0m \u001b[0mPairwiseDistances\u001b[0m\u001b[1;33m,\u001b[0m \u001b[0mStaticPersistence\u001b[0m\u001b[1;33m,\u001b[0m \u001b[0mFiltration\u001b[0m\u001b[1;33m,\u001b[0m \u001b[0mpoints_file\u001b[0m\u001b[1;33m,\u001b[0m                            \u001b[0mExplicitDistances\u001b[0m\u001b[1;33m,\u001b[0m \u001b[0mdata_dim_cmp\u001b[0m\u001b[1;33m\u001b[0m\u001b[0m\n\u001b[0m\u001b[0;32m      2\u001b[0m \u001b[1;32mfrom\u001b[0m    \u001b[0msys\u001b[0m         \u001b[1;32mimport\u001b[0m \u001b[0margv\u001b[0m\u001b[1;33m,\u001b[0m \u001b[0mexit\u001b[0m\u001b[1;33m\u001b[0m\u001b[0m\n\u001b[0;32m      3\u001b[0m \u001b[1;32mimport\u001b[0m  \u001b[0mtime\u001b[0m\u001b[1;33m\u001b[0m\u001b[0m\n\u001b[0;32m      4\u001b[0m \u001b[1;33m\u001b[0m\u001b[0m\n\u001b[0;32m      5\u001b[0m \u001b[1;32mdef\u001b[0m \u001b[0mmain\u001b[0m\u001b[1;33m(\u001b[0m\u001b[0mfilename\u001b[0m\u001b[1;33m,\u001b[0m \u001b[0mskeleton\u001b[0m\u001b[1;33m,\u001b[0m \u001b[0mmax\u001b[0m\u001b[1;33m)\u001b[0m\u001b[1;33m:\u001b[0m\u001b[1;33m\u001b[0m\u001b[0m\n",
      "\u001b[1;31mImportError\u001b[0m: No module named dionysus"
     ]
    }
   ],
   "source": [
    "from    dionysus    import Rips, PairwiseDistances, StaticPersistence, Filtration, points_file, \\\n",
    "                           ExplicitDistances, data_dim_cmp\n",
    "from    sys         import argv, exit\n",
    "import  time\n",
    "\n",
    "\n",
    "def main(filename, skeleton, max):\n",
    "    points = np.random.rand(120,3)#[p for p in points_file(filename)]\n",
    "    print(points)\n",
    "    distances = PairwiseDistances(points)\n",
    "    # distances = ExplicitDistances(distances)           # speeds up generation of the Rips complex at the expense of memory usage\n",
    "    rips = Rips(distances)\n",
    "    print time.asctime(), \"Rips initialized\"\n",
    "\n",
    "    simplices = Filtration()\n",
    "    rips.generate(skeleton, max, simplices.append)\n",
    "    print time.asctime(), \"Generated complex: %d simplices\" % len(simplices)\n",
    "\n",
    "    # While this step is unnecessary (Filtration below can be passed rips.cmp), \n",
    "    # it greatly speeds up the running times\n",
    "    for s in simplices: s.data = rips.eval(s)\n",
    "    print time.asctime(), simplices[0], '...', simplices[-1]\n",
    "\n",
    "    simplices.sort(data_dim_cmp)             # could be rips.cmp if s.data for s in simplices is not set\n",
    "    print time.asctime(), \"Set up filtration\"\n",
    "\n",
    "    p = StaticPersistence(simplices)\n",
    "    print time.asctime(), \"Initialized StaticPersistence\"\n",
    "\n",
    "    p.pair_simplices()\n",
    "    print time.asctime(), \"Simplices paired\"\n",
    "\n",
    "    print \"Outputting persistence diagram\"\n",
    "    smap = p.make_simplex_map(simplices)\n",
    "    for i in p:\n",
    "        if i.sign():\n",
    "            b = smap[i]\n",
    "\n",
    "            if b.dimension() >= skeleton: continue\n",
    "\n",
    "            if i.unpaired():\n",
    "                print b.dimension(), b.data, \"inf\"\n",
    "                continue\n",
    "\n",
    "            d = smap[i.pair()]\n",
    "            print b.dimension(), b.data, d.data\n",
    "\n",
    "if __name__ == '__main__':\n",
    "    if len(argv) < 4:\n",
    "        print \"Usage: %s POINTS SKELETON MAX\" % argv[0]\n",
    "        exit()\n",
    "\n",
    "    #filename = argv[1]\n",
    "    skeleton = 2#int(argv[2])\n",
    "    max = 10.1#float(argv[3])\n",
    "\n",
    "    main(filename, skeleton, max)"
   ]
  },
  {
   "cell_type": "code",
   "execution_count": null,
   "metadata": {
    "collapsed": true
   },
   "outputs": [],
   "source": []
  }
 ],
 "metadata": {
  "kernelspec": {
   "display_name": "Python 2",
   "language": "python",
   "name": "python2"
  },
  "language_info": {
   "codemirror_mode": {
    "name": "ipython",
    "version": 2
   },
   "file_extension": ".py",
   "mimetype": "text/x-python",
   "name": "python",
   "nbconvert_exporter": "python",
   "pygments_lexer": "ipython2",
   "version": "2.7.14"
  }
 },
 "nbformat": 4,
 "nbformat_minor": 2
}
