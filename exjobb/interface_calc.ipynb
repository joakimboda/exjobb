{
 "cells": [
  {
   "cell_type": "code",
   "execution_count": 10,
   "metadata": {},
   "outputs": [],
   "source": [
    "import Bio\n",
    "from Bio.PDB import *\n",
    "import sys\n",
    "import re\n",
    "import matplotlib.pyplot as plt\n",
    "from matplotlib import cm\n",
    "import math\n",
    "import numpy as np\n",
    "import os\n",
    "\n"
   ]
  },
  {
   "cell_type": "code",
   "execution_count": 11,
   "metadata": {
    "collapsed": true
   },
   "outputs": [],
   "source": [
    "def calc_residue_dist(residue1, residue2,layers) :\n",
    "    \"\"\"Returns the C-alpha distance between two residues\"\"\"\n",
    "    for atom1 in residue1:\n",
    "        for atom2 in residue2:\n",
    "            \n",
    "            distance=atom1-atom2    \n",
    "\n",
    "            if distance>20:#If the residues is to far from eachother there is no need to calculate the distance for the rest of the atoms\n",
    "                return (layers)\n",
    "            if distance >8:#Go to the next atom\n",
    "                continue\n",
    "            if distance<=0.5:\n",
    "                layers.setdefault('VDW', []).append([str(residue1.get_full_id()[3][1]) +'.'+ residue1.get_resname() +'-'+ str(residue2.get_full_id()[3][1]) +'.'+ residue2.get_resname(),atom1.get_name() +'-'+ atom2.get_name(), distance])\n",
    "\n",
    "                \n",
    "            if 'H' not in atom1.get_id() and 'H' not in atom2.get_id(): # DUBBELKOLLA ATT DET INTE FINNS H I ANDRA!!!!\n",
    "            #if atom1.get_id() != 'H' and atom2.get_id() != 'H':    \n",
    "                if atom1.get_name()=='CA' and atom2.get_name()=='CA' and distance<=8: #CA-CA distance\n",
    "                    layers.setdefault('CA-CA', []).append([str(residue1.get_full_id()[3][1]) +'.'+ residue1.get_resname() +'-'+ str(residue2.get_full_id()[3][1]) +'.'+ residue2.get_resname(),atom1.get_name() +'-'+ atom2.get_name(), distance])\n",
    "                if distance<=5: #Heavy atoms distance\n",
    "                    layers.setdefault('H-A', []).append([str(residue1.get_full_id()[3][1]) +'.'+ residue1.get_resname() +'-'+ str(residue2.get_full_id()[3][1]) +'.'+ residue2.get_resname(),atom1.get_name() +'-'+ atom2.get_name(), distance])\n",
    "    return (layers)\n",
    "\n",
    "\n",
    "\n",
    "def calc_dist_matrix(chain_one, chain_two,layers) :\n",
    "    \"\"\"Returns a matrix of C-alpha distances between two chains\"\"\"\n",
    "    answer = np.zeros((len(chain_one), len(chain_two)), np.float)\n",
    "    for row, residue_one in enumerate(chain_one) :\n",
    "        for col, residue_two in enumerate(chain_two) :\n",
    "            layers = calc_residue_dist(residue_one, residue_two,layers)\n",
    "    return (layers)"
   ]
  },
  {
   "cell_type": "code",
   "execution_count": 12,
   "metadata": {},
   "outputs": [
    {
     "name": "stdout",
     "output_type": "stream",
     "text": [
      "['/home/joakim/Downloads/models/D1Z5Y-a94d-merged.pdb', '/home/joakim/Downloads/models/D1Z5Y-a82c-merged.pdb', '/home/joakim/Downloads/models/D1I2M-a73d-merged.pdb', '/home/joakim/Downloads/models/D1I2M-a69d-merged.pdb', '/home/joakim/Downloads/models/D1Z5Y-a81b-merged.pdb', '/home/joakim/Downloads/models/D1Z5Y-a90d-merged.pdb', '/home/joakim/Downloads/models/D1Z5Y-a95a-merged.pdb', '/home/joakim/Downloads/models/D1Z5Y-a91a-merged.pdb', '/home/joakim/Downloads/models/D1I2M-a68c-merged.pdb', '/home/joakim/Downloads/models/D1Z5Y-a94a-merged.pdb', '/home/joakim/Downloads/models/D1Z5Y-a49a-merged.pdb', '/home/joakim/Downloads/models/D1Z5Y-a94c-merged.pdb', '/home/joakim/Downloads/models/D1Z5Y-a89b-merged.pdb', '/home/joakim/Downloads/models/D1Z5Y-a56b-merged.pdb', '/home/joakim/Downloads/models/D1I2M-a67d-merged.pdb', '/home/joakim/Downloads/models/D1I2M-a4a-merged.pdb', '/home/joakim/Downloads/models/D1I2M-a7c-merged.pdb', '/home/joakim/Downloads/models/D1I2M-a69b-merged.pdb', '/home/joakim/Downloads/models/D1Z5Y-a91b-merged.pdb', '/home/joakim/Downloads/models/D1Z5Y-a91c-merged.pdb', '/home/joakim/Downloads/models/D1Z5Y-a84d-merged.pdb', '/home/joakim/Downloads/models/D1I2M-a70c-merged.pdb', '/home/joakim/Downloads/models/D1Z5Y-a87b-merged.pdb', '/home/joakim/Downloads/models/D1I2M-a72c-merged.pdb', '/home/joakim/Downloads/models/D1I2M-a5c-merged.pdb', '/home/joakim/Downloads/models/D1Z5Y-a86d-merged.pdb', '/home/joakim/Downloads/models/D1I2M-a67c-merged.pdb', '/home/joakim/Downloads/models/D1I2M-a66b-merged.pdb', '/home/joakim/Downloads/models/D1I2M-a68b-merged.pdb', '/home/joakim/Downloads/models/D1I2M-a63d-merged.pdb', '/home/joakim/Downloads/models/D1Z5Y-a86b-merged.pdb', '/home/joakim/Downloads/models/D1Z5Y-a48c-merged.pdb', '/home/joakim/Downloads/models/D1Z5Y-a56d-merged.pdb', '/home/joakim/Downloads/models/D1I2M-a70b-merged.pdb', '/home/joakim/Downloads/models/D1I2M-a6d-merged.pdb', '/home/joakim/Downloads/models/D1I2M-a65a-merged.pdb', '/home/joakim/Downloads/models/D1Z5Y-a49c-merged.pdb', '/home/joakim/Downloads/models/D1Z5Y-a93b-merged.pdb', '/home/joakim/Downloads/models/D1Z5Y-a92a-merged.pdb', '/home/joakim/Downloads/models/D1I2M-a73c-merged.pdb', '/home/joakim/Downloads/models/D1I2M-a7a-merged.pdb', '/home/joakim/Downloads/models/D1I2M-a64d-merged.pdb', '/home/joakim/Downloads/models/D1I2M-a7b-merged.pdb', '/home/joakim/Downloads/models/D1I2M-a64a-merged.pdb', '/home/joakim/Downloads/models/D1Z5Y-a88d-merged.pdb', '/home/joakim/Downloads/models/D1I2M-a64c-merged.pdb', '/home/joakim/Downloads/models/D1I2M-a6b-merged.pdb', '/home/joakim/Downloads/models/D1Z5Y-a55c-merged.pdb', '/home/joakim/Downloads/models/D1I2M-a0c-merged.pdb', '/home/joakim/Downloads/models/D1Z5Y-a93d-merged.pdb', '/home/joakim/Downloads/models/D1Z5Y-a95b-merged.pdb', '/home/joakim/Downloads/models/D1Z5Y-a84a-merged.pdb', '/home/joakim/Downloads/models/D1I2M-a66c-merged.pdb', '/home/joakim/Downloads/models/D1Z5Y-a52a-merged.pdb', '/home/joakim/Downloads/models/D1Z5Y-a93a-merged.pdb', '/home/joakim/Downloads/models/D1I2M-a1a-merged.pdb', '/home/joakim/Downloads/models/D1Z5Y-a49d-merged.pdb', '/home/joakim/Downloads/models/D1Z5Y-a85b-merged.pdb', '/home/joakim/Downloads/models/D1I2M-a1d-merged.pdb', '/home/joakim/Downloads/models/D1I2M-a73a-merged.pdb', '/home/joakim/Downloads/models/D1Z5Y-a89a-merged.pdb', '/home/joakim/Downloads/models/D1Z5Y-a49b-merged.pdb', '/home/joakim/Downloads/models/D1Z5Y-a81d-merged.pdb', '/home/joakim/Downloads/models/D1I2M-a4b-merged.pdb', '/home/joakim/Downloads/models/D1I2M-a68a-merged.pdb', '/home/joakim/Downloads/models/D1I2M-a5a-merged.pdb', '/home/joakim/Downloads/models/D1I2M-a64b-merged.pdb', '/home/joakim/Downloads/models/D1I2M-a2b-merged.pdb', '/home/joakim/Downloads/models/D1Z5Y-a51d-merged.pdb', '/home/joakim/Downloads/models/D1Z5Y-a92d-merged.pdb', '/home/joakim/Downloads/models/D1I2M-a70a-merged.pdb', '/home/joakim/Downloads/models/D1Z5Y-a52d-merged.pdb', '/home/joakim/Downloads/models/D1Z5Y-a52b-merged.pdb', '/home/joakim/Downloads/models/D1I2M-a63c-merged.pdb', '/home/joakim/Downloads/models/D1I2M-a3b-merged.pdb', '/home/joakim/Downloads/models/D1Z5Y-a53b-merged.pdb', '/home/joakim/Downloads/models/D1I2M-a4c-merged.pdb', '/home/joakim/Downloads/models/D1I2M-a2a-merged.pdb', '/home/joakim/Downloads/models/D1I2M-a63a-merged.pdb', '/home/joakim/Downloads/models/D1Z5Y-a88b-merged.pdb', '/home/joakim/Downloads/models/D1I2M-a6c-merged.pdb', '/home/joakim/Downloads/models/D1Z5Y-a87c-merged.pdb', '/home/joakim/Downloads/models/D1Z5Y-a53a-merged.pdb', '/home/joakim/Downloads/models/D1Z5Y-a80d-merged.pdb', '/home/joakim/Downloads/models/D1I2M-a73b-merged.pdb', '/home/joakim/Downloads/models/D1Z5Y-a88a-merged.pdb', '/home/joakim/Downloads/models/D1Z5Y-a82b-merged.pdb', '/home/joakim/Downloads/models/D1Z5Y-a56c-merged.pdb', '/home/joakim/Downloads/models/D1Z5Y-a92c-merged.pdb', '/home/joakim/Downloads/models/D1I2M-a8a-merged.pdb', '/home/joakim/Downloads/models/D1I2M-a67a-merged.pdb', '/home/joakim/Downloads/models/D1I2M-a65d-merged.pdb', '/home/joakim/Downloads/models/D1I2M-a72d-merged.pdb', '/home/joakim/Downloads/models/D1I2M-a3a-merged.pdb', '/home/joakim/Downloads/models/D1Z5Y-a83c-merged.pdb', '/home/joakim/Downloads/models/D1Z5Y-a82d-merged.pdb', '/home/joakim/Downloads/models/D1Z5Y-a57a-merged.pdb', '/home/joakim/Downloads/models/D1I2M-a72a-merged.pdb', '/home/joakim/Downloads/models/D1Z5Y-a91d-merged.pdb', '/home/joakim/Downloads/models/D1Z5Y-a86c-merged.pdb', '/home/joakim/Downloads/models/D1Z5Y-a54a-merged.pdb', '/home/joakim/Downloads/models/D1Z5Y-a56a-merged.pdb', '/home/joakim/Downloads/models/D1Z5Y-a86a-merged.pdb', '/home/joakim/Downloads/models/D1I2M-a70d-merged.pdb', '/home/joakim/Downloads/models/D1Z5Y-a85d-merged.pdb', '/home/joakim/Downloads/models/D1Z5Y-a57b-merged.pdb', '/home/joakim/Downloads/models/D1Z5Y-a54c-merged.pdb', '/home/joakim/Downloads/models/D1I2M-a5d-merged.pdb', '/home/joakim/Downloads/models/D1I2M-a69a-merged.pdb', '/home/joakim/Downloads/models/D1I2M-a71a-merged.pdb', '/home/joakim/Downloads/models/D1Z5Y-a85a-merged.pdb', '/home/joakim/Downloads/models/D1Z5Y-a93c-merged.pdb', '/home/joakim/Downloads/models/D1Z5Y-a95c-merged.pdb', '/home/joakim/Downloads/models/D1I2M-a5b-merged.pdb', '/home/joakim/Downloads/models/D1Z5Y-a50a-merged.pdb', '/home/joakim/Downloads/models/D1Z5Y-a55b-merged.pdb', '/home/joakim/Downloads/models/D1I2M-a3d-merged.pdb', '/home/joakim/Downloads/models/D1I2M-a71c-merged.pdb', '/home/joakim/Downloads/models/D1I2M-a66a-merged.pdb', '/home/joakim/Downloads/models/D1I2M-a68d-merged.pdb', '/home/joakim/Downloads/models/D1Z5Y-a55d-merged.pdb', '/home/joakim/Downloads/models/D1Z5Y-a51c-merged.pdb', '/home/joakim/Downloads/models/D1Z5Y-a50c-merged.pdb', '/home/joakim/Downloads/models/D1I2M-a69c-merged.pdb', '/home/joakim/Downloads/models/D1I2M-a0d-merged.pdb', '/home/joakim/Downloads/models/D1Z5Y-a90c-merged.pdb', '/home/joakim/Downloads/models/D1Z5Y-a82a-merged.pdb', '/home/joakim/Downloads/models/D1I2M-a6a-merged.pdb', '/home/joakim/Downloads/models/D1Z5Y-a54b-merged.pdb', '/home/joakim/Downloads/models/D1I2M-a2c-merged.pdb', '/home/joakim/Downloads/models/D1I2M-a65b-merged.pdb', '/home/joakim/Downloads/models/D1Z5Y-a85c-merged.pdb', '/home/joakim/Downloads/models/D1Z5Y-a48d-merged.pdb', '/home/joakim/Downloads/models/D1Z5Y-a50b-merged.pdb', '/home/joakim/Downloads/models/D1Z5Y-a89d-merged.pdb', '/home/joakim/Downloads/models/D1Z5Y-a53c-merged.pdb', '/home/joakim/Downloads/models/D1Z5Y-a87d-merged.pdb', '/home/joakim/Downloads/models/D1I2M-a0b-merged.pdb', '/home/joakim/Downloads/models/D1Z5Y-a89c-merged.pdb', '/home/joakim/Downloads/models/D1Z5Y-a83d-merged.pdb', '/home/joakim/Downloads/models/D1I2M-a66d-merged.pdb', '/home/joakim/Downloads/models/D1Z5Y-a84c-merged.pdb', '/home/joakim/Downloads/models/D1I2M-a74a-merged.pdb', '/home/joakim/Downloads/models/D1I2M-a1c-merged.pdb', '/home/joakim/Downloads/models/D1I2M-a72b-merged.pdb', '/home/joakim/Downloads/models/D1I2M-a74b-merged.pdb', '/home/joakim/Downloads/models/D1Z5Y-a88c-merged.pdb', '/home/joakim/Downloads/models/D1I2M-a4d-merged.pdb', '/home/joakim/Downloads/models/D1Z5Y-a54d-merged.pdb', '/home/joakim/Downloads/models/D1I2M-a1b-merged.pdb', '/home/joakim/Downloads/models/D1Z5Y-a83a-merged.pdb', '/home/joakim/Downloads/models/D1Z5Y-a90b-merged.pdb', '/home/joakim/Downloads/models/D1Z5Y-a81a-merged.pdb', '/home/joakim/Downloads/models/D1Z5Y-a50d-merged.pdb', '/home/joakim/Downloads/models/D1Z5Y-a52c-merged.pdb', '/home/joakim/Downloads/models/D1I2M-a7d-merged.pdb', '/home/joakim/Downloads/models/D1Z5Y-a53d-merged.pdb', '/home/joakim/Downloads/models/D1Z5Y-a95d-merged.pdb', '/home/joakim/Downloads/models/D1Z5Y-a83b-merged.pdb', '/home/joakim/Downloads/models/D1Z5Y-a94b-merged.pdb', '/home/joakim/Downloads/models/D1I2M-a3c-merged.pdb', '/home/joakim/Downloads/models/D1I2M-a71b-merged.pdb', '/home/joakim/Downloads/models/D1Z5Y-a81c-merged.pdb', '/home/joakim/Downloads/models/D1I2M-a71d-merged.pdb', '/home/joakim/Downloads/models/D1Z5Y-a55a-merged.pdb', '/home/joakim/Downloads/models/D1Z5Y-a51a-merged.pdb', '/home/joakim/Downloads/models/D1I2M-a63b-merged.pdb', '/home/joakim/Downloads/models/D1Z5Y-a51b-merged.pdb', '/home/joakim/Downloads/models/D1Z5Y-a90a-merged.pdb', '/home/joakim/Downloads/models/D1Z5Y-a92b-merged.pdb', '/home/joakim/Downloads/models/D1Z5Y-a87a-merged.pdb', '/home/joakim/Downloads/models/D1I2M-a2d-merged.pdb']\n",
      "0\n"
     ]
    },
    {
     "name": "stdout",
     "output_type": "stream",
     "text": [
      "1\n",
      "2\n",
      "3\n",
      "4\n",
      "5\n",
      "6\n",
      "7\n",
      "8\n"
     ]
    },
    {
     "ename": "KeyboardInterrupt",
     "evalue": "",
     "output_type": "error",
     "traceback": [
      "\u001b[0;31m---------------------------------------------------------------------------\u001b[0m",
      "\u001b[0;31mKeyboardInterrupt\u001b[0m                         Traceback (most recent call last)",
      "\u001b[0;32m<ipython-input-12-8dc5208151c8>\u001b[0m in \u001b[0;36m<module>\u001b[0;34m()\u001b[0m\n\u001b[1;32m     63\u001b[0m \u001b[0;34m\u001b[0m\u001b[0m\n\u001b[1;32m     64\u001b[0m \u001b[0;32mif\u001b[0m \u001b[0m__name__\u001b[0m \u001b[0;34m==\u001b[0m \u001b[0;34m'__main__'\u001b[0m\u001b[0;34m:\u001b[0m\u001b[0;34m\u001b[0m\u001b[0m\n\u001b[0;32m---> 65\u001b[0;31m   \u001b[0mmain\u001b[0m\u001b[0;34m(\u001b[0m\u001b[0;34m)\u001b[0m\u001b[0;34m\u001b[0m\u001b[0m\n\u001b[0m",
      "\u001b[0;32m<ipython-input-12-8dc5208151c8>\u001b[0m in \u001b[0;36mmain\u001b[0;34m()\u001b[0m\n\u001b[1;32m     37\u001b[0m                 \u001b[0;32mif\u001b[0m \u001b[0mchain1\u001b[0m\u001b[0;34m!=\u001b[0m\u001b[0mchain2\u001b[0m \u001b[0;32mand\u001b[0m \u001b[0mchain2\u001b[0m \u001b[0;32mnot\u001b[0m \u001b[0;32min\u001b[0m \u001b[0mchain_used\u001b[0m\u001b[0;34m:\u001b[0m\u001b[0;34m\u001b[0m\u001b[0m\n\u001b[1;32m     38\u001b[0m                     \u001b[0mchain_used\u001b[0m\u001b[0;34m.\u001b[0m\u001b[0mappend\u001b[0m\u001b[0;34m(\u001b[0m\u001b[0mchain1\u001b[0m\u001b[0;34m)\u001b[0m\u001b[0;34m\u001b[0m\u001b[0m\n\u001b[0;32m---> 39\u001b[0;31m                     \u001b[0mlayers\u001b[0m \u001b[0;34m=\u001b[0m \u001b[0mcalc_dist_matrix\u001b[0m\u001b[0;34m(\u001b[0m\u001b[0mchain1\u001b[0m\u001b[0;34m,\u001b[0m \u001b[0mchain2\u001b[0m\u001b[0;34m,\u001b[0m\u001b[0mlayers\u001b[0m\u001b[0;34m)\u001b[0m\u001b[0;34m\u001b[0m\u001b[0m\n\u001b[0m\u001b[1;32m     40\u001b[0m                     \u001b[0;31m#contact_map = dist_matrix < 12.0\u001b[0m\u001b[0;34m\u001b[0m\u001b[0;34m\u001b[0m\u001b[0m\n\u001b[1;32m     41\u001b[0m \u001b[0;34m\u001b[0m\u001b[0m\n",
      "\u001b[0;32m<ipython-input-11-2050e95affd6>\u001b[0m in \u001b[0;36mcalc_dist_matrix\u001b[0;34m(chain_one, chain_two, layers)\u001b[0m\n\u001b[1;32m     29\u001b[0m     \u001b[0;32mfor\u001b[0m \u001b[0mrow\u001b[0m\u001b[0;34m,\u001b[0m \u001b[0mresidue_one\u001b[0m \u001b[0;32min\u001b[0m \u001b[0menumerate\u001b[0m\u001b[0;34m(\u001b[0m\u001b[0mchain_one\u001b[0m\u001b[0;34m)\u001b[0m \u001b[0;34m:\u001b[0m\u001b[0;34m\u001b[0m\u001b[0m\n\u001b[1;32m     30\u001b[0m         \u001b[0;32mfor\u001b[0m \u001b[0mcol\u001b[0m\u001b[0;34m,\u001b[0m \u001b[0mresidue_two\u001b[0m \u001b[0;32min\u001b[0m \u001b[0menumerate\u001b[0m\u001b[0;34m(\u001b[0m\u001b[0mchain_two\u001b[0m\u001b[0;34m)\u001b[0m \u001b[0;34m:\u001b[0m\u001b[0;34m\u001b[0m\u001b[0m\n\u001b[0;32m---> 31\u001b[0;31m             \u001b[0mlayers\u001b[0m \u001b[0;34m=\u001b[0m \u001b[0mcalc_residue_dist\u001b[0m\u001b[0;34m(\u001b[0m\u001b[0mresidue_one\u001b[0m\u001b[0;34m,\u001b[0m \u001b[0mresidue_two\u001b[0m\u001b[0;34m,\u001b[0m\u001b[0mlayers\u001b[0m\u001b[0;34m)\u001b[0m\u001b[0;34m\u001b[0m\u001b[0m\n\u001b[0m\u001b[1;32m     32\u001b[0m     \u001b[0;32mreturn\u001b[0m \u001b[0;34m(\u001b[0m\u001b[0mlayers\u001b[0m\u001b[0;34m)\u001b[0m\u001b[0;34m\u001b[0m\u001b[0m\n",
      "\u001b[0;31mKeyboardInterrupt\u001b[0m: "
     ]
    }
   ],
   "source": [
    "def main():\n",
    "    \n",
    "    #Dir path\n",
    "    #args = sys.argv[1:]\n",
    "    args='/home/joakim/Downloads/models' #str(args[0])\n",
    "    \n",
    "    pdb_list=[]\n",
    "    for file in os.listdir(args):\n",
    "        if file.endswith(\".pdb\"):\n",
    "            pdb_list.append(args+'/'+file)\n",
    "    print pdb_list\n",
    "    #filename_pdb = '/home/joakim/Downloads/*.pdb'#'/home/joakim/Downloads/2HIY_A.pdb' #'/home/joakim/Downloads/D1A2K-a0a-merged.pdb'\n",
    "    \n",
    "    for counter, filename_pdb in enumerate(pdb_list):\n",
    "        print counter\n",
    "        \n",
    "        try: \n",
    "            PDBobj = PDBParser()\n",
    "            structure = PDBobj.get_structure(filename_pdb, filename_pdb)\n",
    "            model = structure[0]\n",
    "        except IOError: \n",
    "            print 'IO Error', filename_pdb       \n",
    "            while 'true':\n",
    "                input1=raw_input(\"Error parsing PDB file! Continue(y/n)...\")\n",
    "                if input1.lower()=='y':\n",
    "                    continue\n",
    "                elif input1.lower()=='n':\n",
    "                    sys.exit()\n",
    "\n",
    "        chain_used=[]\n",
    "        layers={}\n",
    "        layers.setdefault('VDW', []).append(['Check'])\n",
    "        layers.setdefault('CA-CA', []).append(['Check'])\n",
    "        layers.setdefault('H-A', []).append(['Check'])\n",
    "        for chain1 in model:\n",
    "            for chain2 in model:\n",
    "                if chain1!=chain2 and chain2 not in chain_used:\n",
    "                    chain_used.append(chain1)\n",
    "                    layers = calc_dist_matrix(chain1, chain2,layers)\n",
    "                    #contact_map = dist_matrix < 12.0\n",
    "\n",
    "     #   t=0\n",
    "     #   for i in layers['CA-CA']:\n",
    "       #     t=t+1\n",
    "\n",
    "     #   g=0\n",
    "     #   for i in layers['H-A']:\n",
    "      #      g=g+1\n",
    "\n",
    "        #d=0\n",
    "\n",
    "        #for i in layers['VDW']:\n",
    "         #   d=d+1\n",
    "\n",
    "        #print d-1\n",
    "        #print g-1\n",
    "        #print t-1\n",
    "    #    for i in contact_map:\n",
    "    #        for g in i:\n",
    "    #            if g!= False:\n",
    "    #                print g\n",
    "\n",
    "    \n",
    "if __name__ == '__main__':\n",
    "  main()"
   ]
  },
  {
   "cell_type": "code",
   "execution_count": null,
   "metadata": {
    "collapsed": true
   },
   "outputs": [],
   "source": []
  }
 ],
 "metadata": {
  "kernelspec": {
   "display_name": "Python 2",
   "language": "python",
   "name": "python2"
  },
  "language_info": {
   "codemirror_mode": {
    "name": "ipython",
    "version": 2
   },
   "file_extension": ".py",
   "mimetype": "text/x-python",
   "name": "python",
   "nbconvert_exporter": "python",
   "pygments_lexer": "ipython2",
   "version": "2.7.14"
  }
 },
 "nbformat": 4,
 "nbformat_minor": 2
}
