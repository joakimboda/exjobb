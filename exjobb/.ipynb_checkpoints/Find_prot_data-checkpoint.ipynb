{
 "cells": [
  {
   "cell_type": "markdown",
   "metadata": {},
   "source": [
    "Importing the pdb structure"
   ]
  },
  {
   "cell_type": "markdown",
   "metadata": {},
   "source": [
    "from biopandas.pdb import PandasPdb\n",
    "import sys\n",
    "import re\n",
    "import matplotlib.pyplot as plt\n",
    "from matplotlib import cm\n",
    "import math\n",
    "import numpy as np\n",
    "\n",
    "\n",
    "def find_structure_params(structure):\n",
    "    \n",
    "    structure_data={}\n",
    "    \n",
    "    for index, row in structure_atoms.iterrows():\n",
    "        print  row.keys#row['atom_name']\n",
    "        \n",
    "\n",
    "\n"
   ]
  },
  {
   "cell_type": "code",
   "execution_count": 189,
   "metadata": {
    "collapsed": true
   },
   "outputs": [],
   "source": [
    "import Bio\n",
    "from Bio.PDB import *\n",
    "import sys\n",
    "import re\n",
    "import matplotlib.pyplot as plt\n",
    "from matplotlib import cm\n",
    "import math\n",
    "import numpy as np\n",
    "\n",
    "from mpl_toolkits.mplot3d import Axes3D\n",
    " \n",
    "        \n",
    "def find_structure_params(structure):\n",
    "    \n",
    "    #structure_data.append([Chain_id,Seg_id, residue_name, atom_name, atom_coord_vector])\n",
    "    structure_data={}\n",
    "    \n",
    "    for model in structure:\n",
    "        for chain in model:\n",
    "            #for atom in structure.get_atoms():  If I want all atoms in a structure, depends if I want the residue\n",
    "            for residue in chain:\n",
    "                #if residue.get_full_id()[3][0]==' ':  #If I want to remove HOH etc (hetero-atoms) use this!\n",
    "                    for atom in residue:\n",
    "                        key = chain.get_id() + str(atom.serial_number)\n",
    "                        structure_data[key]=([chain.get_id(),residue.get_resname(),atom.get_name(),atom.get_vector()])\n",
    "   # for i in structure_data:\n",
    "       # if i[0]=='L':\n",
    "     #       print i\n",
    "\n",
    "\n",
    "    return (structure_data)\n",
    "\n",
    "\n"
   ]
  },
  {
   "cell_type": "markdown",
   "metadata": {},
   "source": [
    "How to find different atoms for the 11 layers"
   ]
  },
  {
   "cell_type": "code",
   "execution_count": 190,
   "metadata": {
    "collapsed": true
   },
   "outputs": [],
   "source": [
    "def make_atom_layers(structure_data):\n",
    "    \n",
    "    layer1_check = ['CYS:SG','MET:SD','MSE:SE']\n",
    "    layer2_check = ['ASN:ND2','GLN:NE2'] #Backbone N\n",
    "    layer3_check = ['HIS:ND1','HIS:NE1','TRP:NE1']\n",
    "    layer4_check = ['ARG:NE','ARG:NH1','ARG:NH2','ARG:NH3']\n",
    "    layer5_check = ['LYS:NZ']\n",
    "    layer6_check = ['ASN:OD1','GLN:OE1'] #Backbone O?\n",
    "    layer7_check = ['SER:OG','THR:OG1','TYR:OH']\n",
    "    layer8_check = ['ASP:OD1','ASP:OD2','ASP:OD3','GLU:OE1','GLU:OE2','GLU:OE3']\n",
    "    layer9_check = ['ARG:CZ','ASN:CG','ASP:CG','GLN:CD','GLU:CD'] #Backbone C?\n",
    "    layer10_check = ['HIS:CG','HIS:CD2','HIS:CE1','PHE:CG','PHE:CD1','PHE:CD2','PHE:CD3','PHE:CE1','PHE:CE2','PHE:CE3','PHE:CZ','TRP:CG','TRP:CD1','TRP:CD2','TRP:CD3','TRP:CD3','TRP:CE1','TRP:CE2','TRP:CE3','TRP:CZ1','TRP:CZ2','TRP:CZ3','TRP:CH2','TYR:CG','TYR:CD1','TYR:CD2','TYR:CD3','TYR:CE1','TYR:CE2','TYR:CE3','TYR:CZ']\n",
    "    layer11_check = ['ALA:CB','ARG:CB','ARG:CG','ARG:CD','ASN:CB','ASP:CB','CYS:CB','GLN:CB','GLN:CG','GLU:CB','GLU:CG','HIS:CB','ILE:CB','ILE:CG1','ILE:CG2','ILE:CG3','ILE:CD1','LEU:CB','LEU:CG','LEU:CD1','LEU:CD2','LEU:CD3','LYS:CB','LYS:CG','LYS:CD','LYS:CE','MET:CB','MET:CG','MET:CE','MSE:CB','MSE:CG','MSE:CE','PHE:CB','PRO:CB','PRO:CG','PRO:CD','SER:CB','THR:CB','THR:CG2','TRP:CB','TYR:CB','VAL:CB','VAL:CG1','VAL:CG2','VAL:CG3'] #Backbone CA?\n",
    "    #layers=[[],[],[],[],[],[],[],[],[],[],[],[]] #Fult, vill göra på något annat sätt\n",
    "    \n",
    "    layers={}\n",
    "    \n",
    "    for key, atom in structure_data.iteritems():\n",
    "        if atom[2] == 'N':\n",
    "            layers.setdefault('2', []).append(atom)\n",
    "        elif atom[2] == 'O':\n",
    "            layers.setdefault('6', []).append(atom)\n",
    "        elif atom[2] == 'C':\n",
    "            layers.setdefault('9', []).append(atom)\n",
    "        elif atom[2] == 'CA':\n",
    "            layers.setdefault('11', []).append(atom)\n",
    "        elif atom[2] == 'OXT':\n",
    "            layers.setdefault('8', []).append(atom)\n",
    "        else:\n",
    "            atom_type = atom[1] + ':' + atom[2]\n",
    "            if atom_type in layer1_check:\n",
    "                layers.setdefault('1', []).append(atom)\n",
    "            elif atom_type in layer2_check:\n",
    "                layers.setdefault('2', []).append(atom)\n",
    "            elif atom_type in layer3_check:\n",
    "                layers.setdefault('3', []).append(atom)\n",
    "            elif atom_type in layer4_check:\n",
    "                layers.setdefault('4', []).append(atom)\n",
    "            elif atom_type in layer5_check:\n",
    "                layers.setdefault('5', []).append(atom)\n",
    "            elif atom_type in layer6_check:\n",
    "                layers.setdefault('6', []).append(atom)\n",
    "            elif atom_type in layer7_check:\n",
    "                layers.setdefault('7', []).append(atom)\n",
    "            elif atom_type in layer8_check:\n",
    "                layers.setdefault('8', []).append(atom)\n",
    "            elif atom_type in layer9_check:\n",
    "                layers.setdefault('9', []).append(atom)\n",
    "            elif atom_type in layer10_check:\n",
    "                layers.setdefault('10', []).append(atom)\n",
    "            elif atom_type in layer11_check:\n",
    "                layers.setdefault('11', []).append(atom)\n",
    "            else:\n",
    "                g=1#layers.setdefault('12', []).append(atom)\n",
    "    \n",
    "    #This is to check if anything is not sorted into a layer            \n",
    "    #for key,atom in layers.iteritems():\n",
    "        #if key=='12':\n",
    "           # for x in atom:\n",
    "             #   print x\n",
    "\n",
    "    return(layers)"
   ]
  },
  {
   "cell_type": "code",
   "execution_count": 191,
   "metadata": {
    "collapsed": true
   },
   "outputs": [],
   "source": [
    "def find_midpoint(structure_data):\n",
    "    \n",
    "    #allvectors = structure_data.values()[1][3]-structure_data.values()[1][3] #forstå hur man gör ett vector object!\n",
    "    allvectors = Vector([0,0,0])\n",
    "\n",
    "    i=0     \n",
    "    for key, atom in structure_data.iteritems():\n",
    "        allvectors=allvectors+atom[3]\n",
    "        i=i+1\n",
    "    midpoint=allvectors/i\n",
    "    return(midpoint)    "
   ]
  },
  {
   "cell_type": "code",
   "execution_count": 192,
   "metadata": {
    "collapsed": true
   },
   "outputs": [],
   "source": [
    "def normalize_in_origo(midpoint,structure_data):\n",
    "\n",
    "    for key,atom in structure_data.iteritems():\n",
    "        newvector = atom[3] - midpoint\n",
    "        atom_new=[atom[0],atom[1],atom[2],newvector]\n",
    "        structure_data[key]=atom_new\n",
    "\n",
    "    return (structure_data)"
   ]
  },
  {
   "cell_type": "code",
   "execution_count": 193,
   "metadata": {
    "collapsed": true
   },
   "outputs": [],
   "source": [
    "def make_density_maps(layers):\n",
    "    \n",
    "        density_maps= []\n",
    "        for g in range(1, 12):\n",
    "            density_maps.append(np.zeros((120,120,120)))\n",
    "            \n",
    "        for key,atom in layers.iteritems():\n",
    "            for pos in atom:\n",
    "                x=int(np.around(pos[3][0], decimals=0))+60\n",
    "                y=int(np.around(pos[3][1], decimals=0))+60\n",
    "                z=int(np.around(pos[3][2], decimals=0))+60\n",
    "                \n",
    "                for xx in range(-2,3):\n",
    "                    for yy in range(-2,3):\n",
    "                        for zz in range(-2,3):\n",
    "                            r=float(max(abs(xx),abs(yy),abs(zz)))\n",
    "                            density=math.exp(-((r**2)/2))\n",
    "                            density_maps[(int(key)-1)][x+xx][y+yy][z+zz]=density_maps[(int(key)-1)][x+xx][y+yy][z+zz]+density\n",
    "\n",
    "                            \n",
    "        #Denna del är bara för att kunna plotta datan\n",
    "        x_values=[]\n",
    "        y_values=[]\n",
    "        z_values=[]\n",
    "        density_values = []\n",
    "        \n",
    "        for x in range(0,120):\n",
    "            for y in range(0,120):\n",
    "                for z in range(0,120):\n",
    "                    if density_maps[1][x][y][z]>0.0:\n",
    "                        x_values.append(x)\n",
    "                        y_values.append(y)\n",
    "                        z_values.append(z)\n",
    "                        density_values.append(density_maps[1][x][y][z])\n",
    "        \n",
    "        return (density_maps,x_values,y_values,z_values,density_values)               "
   ]
  },
  {
   "cell_type": "code",
   "execution_count": 194,
   "metadata": {
    "collapsed": true
   },
   "outputs": [],
   "source": [
    "def plot_4d(x_values,y_values,z_values,density_value):\n",
    "    import numpy as np\n",
    "    import matplotlib.pyplot as plt\n",
    "    from mpl_toolkits.mplot3d import Axes3D\n",
    "\n",
    "    # choose your colormap\n",
    "    cmap = plt.cm.jet\n",
    "\n",
    "    # get a Nx4 array of RGBA corresponding to zs\n",
    "    # cmap expects values between 0 and 1\n",
    "    density_values = np.array(density_value) # if z_list is type `list`\n",
    "    colors = cmap(density_value)\n",
    "\n",
    "    # set the alpha values according to i_list\n",
    "    # must satisfy 0 <= i <= 1\n",
    "    density_value = np.array(density_value)\n",
    "    colors[:,-1] = density_values / density_values.max()\n",
    "\n",
    "    # then plot\n",
    "    fig = plt.figure() \n",
    "    ax = fig.add_subplot(111, projection='3d')\n",
    "    ax.scatter(x_values, y_values, z_values, c=colors)\n",
    "    plt.show()\n",
    "\n"
   ]
  },
  {
   "cell_type": "code",
   "execution_count": 195,
   "metadata": {},
   "outputs": [],
   "source": [
    "def make_mrcfile(density_maps):\n",
    "    import mrcfile\n",
    "    \n",
    "    density_map1=density_maps[10].astype(np.float32)\n",
    "    print type(density_map1)\n",
    "    \n",
    "    with mrcfile.new('tmp.mrc',overwrite=True) as mrc:\n",
    "        mrc.set_data(density_map1)"
   ]
  },
  {
   "cell_type": "code",
   "execution_count": 196,
   "metadata": {},
   "outputs": [],
   "source": [
    "def main():\n",
    "    filename_pdb = '/home/joakim/Downloads/5eh6.pdb'#'/home/joakim/Downloads/2HIY_A.pdb' #'/home/joakim/Downloads/D1A2K-a0a-merged.pdb'\n",
    "    try: \n",
    "        PDBobj = PDBParser()\n",
    "        structure = PDBobj.get_structure(filename_pdb, filename_pdb)\n",
    "\n",
    "    except IOError: \n",
    "        print 'IO Error', filename_pdb       \n",
    "        while 'true':\n",
    "            input1=raw_input(\"Error parsing PDB file! Continue(y/n)...\")\n",
    "            if input1.lower()=='y':\n",
    "                break\n",
    "            elif input1.lower()=='n':\n",
    "                sys.exit()\n",
    "   # structure=PandasPdb().read_pdb(filename_pdb)\n",
    "   # structure_atoms = structure.df['ATOM']\n",
    "\n",
    "    \n",
    "    structure_data = find_structure_params(structure)\n",
    "    \n",
    "    midpoint = find_midpoint(structure_data) #Avrundning gör att det blir lite konstigt,!! Kolla upp\n",
    "    print midpoint\n",
    "    structure_data = normalize_in_origo(midpoint,structure_data)\n",
    "    \n",
    "    layers = make_atom_layers(structure_data)\n",
    "    \n",
    "    #for key,values in layers.iteritems():\n",
    "        #print key, len(values)\n",
    "\n",
    "    #Create 11 density maps (zeros)\n",
    "    (density_maps,x_values,y_values,z_values,density_values) = make_density_maps(layers)\n",
    "    \n",
    "    make_mrcfile(density_maps)\n",
    "\n",
    "    plot_4d(x_values,y_values,z_values,density_values)\n",
    "\n",
    "    \n",
    "    \n"
   ]
  },
  {
   "cell_type": "code",
   "execution_count": 197,
   "metadata": {},
   "outputs": [
    {
     "name": "stdout",
     "output_type": "stream",
     "text": [
      "<Vector 32.16, 9.59, 1.03>\n",
      "<type 'numpy.ndarray'>\n"
     ]
    }
   ],
   "source": [
    "if __name__ == '__main__':\n",
    "  main()"
   ]
  }
 ],
 "metadata": {
  "kernelspec": {
   "display_name": "Python 2",
   "language": "python",
   "name": "python2"
  },
  "language_info": {
   "codemirror_mode": {
    "name": "ipython",
    "version": 2
   },
   "file_extension": ".py",
   "mimetype": "text/x-python",
   "name": "python",
   "nbconvert_exporter": "python",
   "pygments_lexer": "ipython2",
   "version": "2.7.14"
  }
 },
 "nbformat": 4,
 "nbformat_minor": 2
}
