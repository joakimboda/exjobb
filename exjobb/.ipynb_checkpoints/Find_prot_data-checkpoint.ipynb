{
 "cells": [
  {
   "cell_type": "code",
   "execution_count": 13,
   "metadata": {},
   "outputs": [],
   "source": [
    "import Bio\n",
    "from Bio.PDB import *\n",
    "import sys\n",
    "import re\n",
    "import matplotlib.pyplot as plt\n",
    "from matplotlib import cm\n",
    "import math\n",
    " \n",
    "         \n",
    "def find_structure_params(structure):\n",
    "     \n",
    "    model = structure[0]\n",
    "    chain = model['A'] \n",
    "    rr_all_distance=[]\n",
    "     \n",
    "    #for atom in structure.get_atoms():  If I want all atoms in a structure, depends if I want the residue\n",
    "    for residue in chain:\n",
    "        if residue.get_full_id()[3][0]==' ':\n",
    "            for atom in residue:\n",
    "                print atom.get_id()\n",
    "            #print residue.get_full_id()\n",
    "           \n",
    "           #rr_all_distance.append([residue1, residue2, distance])\n",
    "        #   structure_params.append([index1, index2, distance]) #tabort residue1 o reside2\n",
    " \n",
    "    return\n",
    "\n",
    "\n"
   ]
  },
  {
   "cell_type": "code",
   "execution_count": 14,
   "metadata": {},
   "outputs": [],
   "source": [
    "def main():\n",
    "    filename_pdb = '/home/joakim/Downloads/2HIY_A.pdb'\n",
    "    \n",
    "    PDBobj = PDBParser()\n",
    "    structure = PDBobj.get_structure(filename_pdb, filename_pdb)\n",
    "    find_structure_params(structure)\n",
    "    \n",
    "    \n",
    "    \n",
    "    \n",
    "if __name__ == '__main__':\n",
    "  main()"
   ]
  }
 ],
 "metadata": {
  "kernelspec": {
   "display_name": "Python 2",
   "language": "python",
   "name": "python2"
  },
  "language_info": {
   "codemirror_mode": {
    "name": "ipython",
    "version": 2
   },
   "file_extension": ".py",
   "mimetype": "text/x-python",
   "name": "python",
   "nbconvert_exporter": "python",
   "pygments_lexer": "ipython2",
   "version": "2.7.14"
  }
 },
 "nbformat": 4,
 "nbformat_minor": 2
}
